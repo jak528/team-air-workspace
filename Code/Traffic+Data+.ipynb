{
 "cells": [
  {
   "cell_type": "code",
   "execution_count": 1,
   "metadata": {
    "collapsed": true
   },
   "outputs": [],
   "source": [
    "import numpy as np\n",
    "import pandas as pd\n",
    "import matplotlib.pyplot as plt"
   ]
  },
  {
   "cell_type": "code",
   "execution_count": 13,
   "metadata": {},
   "outputs": [],
   "source": [
    "def load_data(path):\n",
    "    data = pd.read_csv(path)\n",
    "    return data"
   ]
  },
  {
   "cell_type": "code",
   "execution_count": 41,
   "metadata": {
    "collapsed": true
   },
   "outputs": [],
   "source": [
    "# function data_retrieve adds column 'dis_time' and 'date' into the data set for specific camera ID\n",
    "# dis_time: time of each speed record\n",
    "# date: date of each speed record\n",
    "def data_retrieve(data, linkid):\n",
    "    data = data[(data['linkId']==linkid)]\n",
    "    data = data.copy(deep=True)\n",
    "    data['dis_time'] = data['DataAsOf'].apply(lambda x:x.split(' ')[1])\n",
    "    data['date'] = data['DataAsOf'].apply(lambda x:x.split(' ')[0])\n",
    "    return data"
   ]
  },
  {
   "cell_type": "code",
   "execution_count": 32,
   "metadata": {
    "collapsed": true
   },
   "outputs": [],
   "source": [
    "# function ave_speed calculates the average speed for specific time type\n",
    "# ave_speed('date') calculates the average speed for each calendar date\n",
    "# ave_speed('dis_time') calculates the average speed for each time period for whole month (i.e 9:05 am)\n",
    "def ave_speed(time_type):\n",
    "    return data.groupby(data[time_type]).mean()['Speed']"
   ]
  },
  {
   "cell_type": "code",
   "execution_count": 49,
   "metadata": {
    "collapsed": true
   },
   "outputs": [],
   "source": [
    "# function speed_plot generates the bar graph for average speed of given time_type\n",
    "def speed_plot(time_type):\n",
    "    average_speed = ave_speed(time_type)\n",
    "    time_list = list(np.unique(data[time_type]))\n",
    "    x = list(range(len(time_list)))\n",
    "    plt.bar(x,average_speed)\n",
    "    plt.show()\n",
    "    return time_list"
   ]
  },
  {
   "cell_type": "code",
   "execution_count": 50,
   "metadata": {},
   "outputs": [
    {
     "data": {
      "image/png": "[encoded data removed]",
      "text/plain": [
       "<matplotlib.figure.Figure at 0x12326cf60>"
      ]
     },
     "metadata": {},
     "output_type": "display_data"
    },
    {
     "name": "stdout",
     "output_type": "stream",
     "text": [
      "['4/18/2015', '4/19/2015', '4/20/2015', '4/21/2015', '4/22/2015', '4/23/2015', '4/24/2015', '4/25/2015', '4/26/2015', '4/27/2015', '4/28/2015', '4/29/2015', '4/30/2015']\n"
     ]
    }
   ],
   "source": [
    "# one example plot of daily average speed for camera 4616325 \n",
    "raw_data = load_data('/Users/yingzhu/Desktop/2015 Raw Data/2015-04.csv')\n",
    "data = data_retrieve(raw_data,4616325)\n",
    "time_list = speed_plot('date')\n",
    "print(time_list)"
   ]
  },
  {
   "cell_type": "code",
   "execution_count": null,
   "metadata": {
    "collapsed": true
   },
   "outputs": [],
   "source": []
  }
 ],
 "metadata": {
  "kernelspec": {
   "display_name": "Python 3",
   "language": "python",
   "name": "python3"
  },
  "language_info": {
   "codemirror_mode": {
    "name": "ipython",
    "version": 3
   },
   "file_extension": ".py",
   "mimetype": "text/x-python",
   "name": "python",
   "nbconvert_exporter": "python",
   "pygments_lexer": "ipython3",
   "version": "3.6.1"
  }
 },
 "nbformat": 4,
 "nbformat_minor": 2
}
