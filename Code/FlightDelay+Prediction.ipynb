{
 "cells": [
  {
   "cell_type": "code",
   "execution_count": 1,
   "metadata": {},
   "outputs": [
    {
     "name": "stderr",
     "output_type": "stream",
     "text": [
      "/Users/yingzhu/anaconda/lib/python3.6/site-packages/sklearn/cross_validation.py:44: DeprecationWarning: This module was deprecated in version 0.18 in favor of the model_selection module into which all the refactored classes and functions are moved. Also note that the interface of the new CV iterators are different from that of this module. This module will be removed in 0.20.\n",
      "  \"This module will be removed in 0.20.\", DeprecationWarning)\n"
     ]
    }
   ],
   "source": [
    "import zipfile\n",
    "import datetime\n",
    "from dateutil.relativedelta import relativedelta\n",
    "import numpy as np\n",
    "import pandas as pd\n",
    "import seaborn as sb\n",
    "import matplotlib.pyplot as plt\n",
    "import sklearn\n",
    "\n",
    "from pylab import rcParams\n",
    "from sklearn import preprocessing\n",
    "from sklearn.linear_model import LogisticRegression\n",
    "from sklearn.cross_validation import train_test_split\n",
    "from sklearn import metrics \n",
    "from sklearn.metrics import classification_report\n",
    "from sklearn import cross_validation"
   ]
  },
  {
   "cell_type": "code",
   "execution_count": 39,
   "metadata": {
    "collapsed": true
   },
   "outputs": [],
   "source": [
    "df = pd.read_csv('/Users/yingzhu/Desktop/FlightDely_201401_201708.csv',header=0)\n",
    "df = df[df['ORIGIN']=='JFK']"
   ]
  },
  {
   "cell_type": "code",
   "execution_count": 40,
   "metadata": {
    "collapsed": true
   },
   "outputs": [],
   "source": [
    "df[\"Flight_Num\"] = df[\"UNIQUE_CARRIER\"].map(str) + df[\"FL_NUM\"].map(str)"
   ]
  },
  {
   "cell_type": "code",
   "execution_count": 41,
   "metadata": {
    "collapsed": true
   },
   "outputs": [],
   "source": [
    "df = df[['YEAR','MONTH','DAY_OF_MONTH','DAY_OF_WEEK','UNIQUE_CARRIER','CRS_DEP_TIME','DEST','DEP_DELAY','Flight_Num']]"
   ]
  },
  {
   "cell_type": "code",
   "execution_count": 42,
   "metadata": {
    "collapsed": true
   },
   "outputs": [],
   "source": [
    "df = df[np.isfinite(df['DEP_DELAY'])]"
   ]
  },
  {
   "cell_type": "code",
   "execution_count": 43,
   "metadata": {
    "collapsed": true
   },
   "outputs": [],
   "source": [
    "Carrier_list = list(df['UNIQUE_CARRIER'].unique())\n",
    "Dest_list = list(df['DEST'].unique())"
   ]
  },
  {
   "cell_type": "code",
   "execution_count": 44,
   "metadata": {
    "collapsed": true
   },
   "outputs": [],
   "source": [
    "def carrier_mean(df,carrier_name,col_name):\n",
    "    cur_carrier = df[df[col_name]==carrier_name]\n",
    "    carrier_mean = np.mean(cur_carrier['DEP_DELAY'])\n",
    "    return carrier_mean"
   ]
  },
  {
   "cell_type": "code",
   "execution_count": 45,
   "metadata": {
    "collapsed": true
   },
   "outputs": [],
   "source": [
    "def cal_mean(df,carrier_list,col_name):\n",
    "    Carrier_mean ={}\n",
    "    for i in carrier_list:\n",
    "        Carrier_mean[i]=carrier_mean(df,i,col_name)\n",
    "    return Carrier_mean"
   ]
  },
  {
   "cell_type": "code",
   "execution_count": 46,
   "metadata": {
    "collapsed": true
   },
   "outputs": [],
   "source": [
    "car_mean = cal_mean(df,Carrier_list,'UNIQUE_CARRIER')\n",
    "df[\"Carrier_Mean\"] = df[\"UNIQUE_CARRIER\"].map(car_mean)\n",
    "dest_mean = cal_mean(df,Dest_list,'DEST')\n",
    "df[\"Dest_Mean\"] = df[\"DEST\"].map(dest_mean)"
   ]
  },
  {
   "cell_type": "code",
   "execution_count": 30,
   "metadata": {},
   "outputs": [
    {
     "data": {
      "text/html": [
       "<div>\n",
       "<style>\n",
       "    .dataframe thead tr:only-child th {\n",
       "        text-align: right;\n",
       "    }\n",
       "\n",
       "    .dataframe thead th {\n",
       "        text-align: left;\n",
       "    }\n",
       "\n",
       "    .dataframe tbody tr th {\n",
       "        vertical-align: top;\n",
       "    }\n",
       "</style>\n",
       "<table border=\"1\" class=\"dataframe\">\n",
       "  <thead>\n",
       "    <tr style=\"text-align: right;\">\n",
       "      <th></th>\n",
       "      <th>YEAR</th>\n",
       "      <th>MONTH</th>\n",
       "      <th>DAY_OF_MONTH</th>\n",
       "      <th>DAY_OF_WEEK</th>\n",
       "      <th>UNIQUE_CARRIER</th>\n",
       "      <th>CRS_DEP_TIME</th>\n",
       "      <th>DEST</th>\n",
       "      <th>DEP_DELAY</th>\n",
       "      <th>Flight_Num</th>\n",
       "      <th>Carrier_Mean</th>\n",
       "      <th>Dest_Mean</th>\n",
       "    </tr>\n",
       "  </thead>\n",
       "  <tbody>\n",
       "    <tr>\n",
       "      <th>163</th>\n",
       "      <td>2014</td>\n",
       "      <td>1</td>\n",
       "      <td>1</td>\n",
       "      <td>3</td>\n",
       "      <td>MQ</td>\n",
       "      <td>1930</td>\n",
       "      <td>CMH</td>\n",
       "      <td>-1.0</td>\n",
       "      <td>MQ3535</td>\n",
       "      <td>11.079078</td>\n",
       "      <td>12.654429</td>\n",
       "    </tr>\n",
       "    <tr>\n",
       "      <th>165</th>\n",
       "      <td>2014</td>\n",
       "      <td>1</td>\n",
       "      <td>3</td>\n",
       "      <td>5</td>\n",
       "      <td>MQ</td>\n",
       "      <td>1930</td>\n",
       "      <td>CMH</td>\n",
       "      <td>66.0</td>\n",
       "      <td>MQ3535</td>\n",
       "      <td>11.079078</td>\n",
       "      <td>12.654429</td>\n",
       "    </tr>\n",
       "    <tr>\n",
       "      <th>166</th>\n",
       "      <td>2014</td>\n",
       "      <td>1</td>\n",
       "      <td>4</td>\n",
       "      <td>6</td>\n",
       "      <td>MQ</td>\n",
       "      <td>1930</td>\n",
       "      <td>CMH</td>\n",
       "      <td>4.0</td>\n",
       "      <td>MQ3535</td>\n",
       "      <td>11.079078</td>\n",
       "      <td>12.654429</td>\n",
       "    </tr>\n",
       "    <tr>\n",
       "      <th>167</th>\n",
       "      <td>2014</td>\n",
       "      <td>1</td>\n",
       "      <td>5</td>\n",
       "      <td>7</td>\n",
       "      <td>MQ</td>\n",
       "      <td>1930</td>\n",
       "      <td>CMH</td>\n",
       "      <td>29.0</td>\n",
       "      <td>MQ3535</td>\n",
       "      <td>11.079078</td>\n",
       "      <td>12.654429</td>\n",
       "    </tr>\n",
       "    <tr>\n",
       "      <th>168</th>\n",
       "      <td>2014</td>\n",
       "      <td>1</td>\n",
       "      <td>6</td>\n",
       "      <td>1</td>\n",
       "      <td>MQ</td>\n",
       "      <td>1930</td>\n",
       "      <td>CMH</td>\n",
       "      <td>143.0</td>\n",
       "      <td>MQ3535</td>\n",
       "      <td>11.079078</td>\n",
       "      <td>12.654429</td>\n",
       "    </tr>\n",
       "  </tbody>\n",
       "</table>\n",
       "</div>"
      ],
      "text/plain": [
       "     YEAR  MONTH  DAY_OF_MONTH  DAY_OF_WEEK UNIQUE_CARRIER  CRS_DEP_TIME DEST  \\\n",
       "163  2014      1             1            3             MQ          1930  CMH   \n",
       "165  2014      1             3            5             MQ          1930  CMH   \n",
       "166  2014      1             4            6             MQ          1930  CMH   \n",
       "167  2014      1             5            7             MQ          1930  CMH   \n",
       "168  2014      1             6            1             MQ          1930  CMH   \n",
       "\n",
       "     DEP_DELAY Flight_Num  Carrier_Mean  Dest_Mean  \n",
       "163       -1.0     MQ3535     11.079078  12.654429  \n",
       "165       66.0     MQ3535     11.079078  12.654429  \n",
       "166        4.0     MQ3535     11.079078  12.654429  \n",
       "167       29.0     MQ3535     11.079078  12.654429  \n",
       "168      143.0     MQ3535     11.079078  12.654429  "
      ]
     },
     "execution_count": 30,
     "metadata": {},
     "output_type": "execute_result"
    }
   ],
   "source": [
    "df.head()"
   ]
  },
  {
   "cell_type": "code",
   "execution_count": 47,
   "metadata": {
    "collapsed": true
   },
   "outputs": [],
   "source": [
    "df.CRS_DEP_TIME = pd.cut(df.CRS_DEP_TIME, range(0,2600,100),labels=range(0,25))\n",
    "#df.DEP_DELAY = pd.qcut(df.DEP_DELAY, 5, labels=[1,2,3,4,5])\n",
    "df['DEP_DELAY'] = np.where(df['DEP_DELAY']>=0, 1, 0)"
   ]
  },
  {
   "cell_type": "code",
   "execution_count": 32,
   "metadata": {},
   "outputs": [
    {
     "data": {
      "text/html": [
       "<div>\n",
       "<style>\n",
       "    .dataframe thead tr:only-child th {\n",
       "        text-align: right;\n",
       "    }\n",
       "\n",
       "    .dataframe thead th {\n",
       "        text-align: left;\n",
       "    }\n",
       "\n",
       "    .dataframe tbody tr th {\n",
       "        vertical-align: top;\n",
       "    }\n",
       "</style>\n",
       "<table border=\"1\" class=\"dataframe\">\n",
       "  <thead>\n",
       "    <tr style=\"text-align: right;\">\n",
       "      <th></th>\n",
       "      <th>YEAR</th>\n",
       "      <th>MONTH</th>\n",
       "      <th>DAY_OF_MONTH</th>\n",
       "      <th>DAY_OF_WEEK</th>\n",
       "      <th>UNIQUE_CARRIER</th>\n",
       "      <th>CRS_DEP_TIME</th>\n",
       "      <th>DEST</th>\n",
       "      <th>DEP_DELAY</th>\n",
       "      <th>Flight_Num</th>\n",
       "      <th>Carrier_Mean</th>\n",
       "      <th>Dest_Mean</th>\n",
       "    </tr>\n",
       "  </thead>\n",
       "  <tbody>\n",
       "    <tr>\n",
       "      <th>163</th>\n",
       "      <td>2014</td>\n",
       "      <td>1</td>\n",
       "      <td>1</td>\n",
       "      <td>3</td>\n",
       "      <td>MQ</td>\n",
       "      <td>19</td>\n",
       "      <td>CMH</td>\n",
       "      <td>0</td>\n",
       "      <td>MQ3535</td>\n",
       "      <td>11.079078</td>\n",
       "      <td>12.654429</td>\n",
       "    </tr>\n",
       "    <tr>\n",
       "      <th>165</th>\n",
       "      <td>2014</td>\n",
       "      <td>1</td>\n",
       "      <td>3</td>\n",
       "      <td>5</td>\n",
       "      <td>MQ</td>\n",
       "      <td>19</td>\n",
       "      <td>CMH</td>\n",
       "      <td>1</td>\n",
       "      <td>MQ3535</td>\n",
       "      <td>11.079078</td>\n",
       "      <td>12.654429</td>\n",
       "    </tr>\n",
       "    <tr>\n",
       "      <th>166</th>\n",
       "      <td>2014</td>\n",
       "      <td>1</td>\n",
       "      <td>4</td>\n",
       "      <td>6</td>\n",
       "      <td>MQ</td>\n",
       "      <td>19</td>\n",
       "      <td>CMH</td>\n",
       "      <td>0</td>\n",
       "      <td>MQ3535</td>\n",
       "      <td>11.079078</td>\n",
       "      <td>12.654429</td>\n",
       "    </tr>\n",
       "    <tr>\n",
       "      <th>167</th>\n",
       "      <td>2014</td>\n",
       "      <td>1</td>\n",
       "      <td>5</td>\n",
       "      <td>7</td>\n",
       "      <td>MQ</td>\n",
       "      <td>19</td>\n",
       "      <td>CMH</td>\n",
       "      <td>1</td>\n",
       "      <td>MQ3535</td>\n",
       "      <td>11.079078</td>\n",
       "      <td>12.654429</td>\n",
       "    </tr>\n",
       "    <tr>\n",
       "      <th>168</th>\n",
       "      <td>2014</td>\n",
       "      <td>1</td>\n",
       "      <td>6</td>\n",
       "      <td>1</td>\n",
       "      <td>MQ</td>\n",
       "      <td>19</td>\n",
       "      <td>CMH</td>\n",
       "      <td>1</td>\n",
       "      <td>MQ3535</td>\n",
       "      <td>11.079078</td>\n",
       "      <td>12.654429</td>\n",
       "    </tr>\n",
       "  </tbody>\n",
       "</table>\n",
       "</div>"
      ],
      "text/plain": [
       "     YEAR  MONTH  DAY_OF_MONTH  DAY_OF_WEEK UNIQUE_CARRIER CRS_DEP_TIME DEST  \\\n",
       "163  2014      1             1            3             MQ           19  CMH   \n",
       "165  2014      1             3            5             MQ           19  CMH   \n",
       "166  2014      1             4            6             MQ           19  CMH   \n",
       "167  2014      1             5            7             MQ           19  CMH   \n",
       "168  2014      1             6            1             MQ           19  CMH   \n",
       "\n",
       "     DEP_DELAY Flight_Num  Carrier_Mean  Dest_Mean  \n",
       "163          0     MQ3535     11.079078  12.654429  \n",
       "165          1     MQ3535     11.079078  12.654429  \n",
       "166          0     MQ3535     11.079078  12.654429  \n",
       "167          1     MQ3535     11.079078  12.654429  \n",
       "168          1     MQ3535     11.079078  12.654429  "
      ]
     },
     "execution_count": 32,
     "metadata": {},
     "output_type": "execute_result"
    }
   ],
   "source": [
    "df.head()"
   ]
  },
  {
   "cell_type": "code",
   "execution_count": 48,
   "metadata": {
    "collapsed": true
   },
   "outputs": [],
   "source": [
    "def one_hot_encoding(df,list):\n",
    "    map={}\n",
    "    for i in range(len(list)):\n",
    "        map[list[i]]= i \n",
    "    return map\n",
    "df['DEST'] = df['DEST'].map(one_hot_encoding(df,Dest_list))\n",
    "df['UNIQUE_CARRIER'] = df['UNIQUE_CARRIER'].map(one_hot_encoding(df,Carrier_list))"
   ]
  },
  {
   "cell_type": "code",
   "execution_count": 49,
   "metadata": {
    "collapsed": true
   },
   "outputs": [],
   "source": [
    "df = df.drop(['Flight_Num'],axis=1)"
   ]
  },
  {
   "cell_type": "code",
   "execution_count": null,
   "metadata": {
    "collapsed": true
   },
   "outputs": [],
   "source": []
  },
  {
   "cell_type": "code",
   "execution_count": 50,
   "metadata": {
    "collapsed": true
   },
   "outputs": [],
   "source": [
    "# seperate dependent variables and independent variables\n",
    "X = df.loc[:,df.columns != 'DEP_DELAY'].values\n",
    "Y = list(df.loc[:,'DEP_DELAY'].values)"
   ]
  },
  {
   "cell_type": "code",
   "execution_count": 57,
   "metadata": {},
   "outputs": [
    {
     "name": "stdout",
     "output_type": "stream",
     "text": [
      "Logistic average accuracy:  0.612005918471\n",
      "[ 0.61025954  0.61167883  0.61407938]\n"
     ]
    }
   ],
   "source": [
    "X_train, X_test, y_train, y_test = train_test_split(X, Y, test_size = .3,random_state =0)\n",
    "LogReg = LogisticRegression(class_weight='balanced')\n",
    "logistic_scores = cross_validation.cross_val_score(LogReg,X_train,y_train,cv=3)\n",
    "print (\"Logistic average accuracy: \", np.mean(logistic_scores))\n",
    "print (logistic_scores)"
   ]
  },
  {
   "cell_type": "code",
   "execution_count": 62,
   "metadata": {},
   "outputs": [],
   "source": [
    "LogReg.fit(X_train, y_train)\n",
    "test_predict = LogReg.predict_proba(X_test)[:,1]"
   ]
  },
  {
   "cell_type": "code",
   "execution_count": 65,
   "metadata": {},
   "outputs": [
    {
     "data": {
      "image/png": "[encoded data removed]",
      "text/plain": [
       "<matplotlib.figure.Figure at 0x111f022e8>"
      ]
     },
     "metadata": {},
     "output_type": "display_data"
    }
   ],
   "source": [
    "plt.boxplot(test_predict)\n",
    "plt.show()"
   ]
  },
  {
   "cell_type": "code",
   "execution_count": 52,
   "metadata": {},
   "outputs": [
    {
     "name": "stdout",
     "output_type": "stream",
     "text": [
      "             precision    recall  f1-score   support\n",
      "\n",
      "          0       0.67      0.60      0.63     60193\n",
      "          1       0.55      0.62      0.58     47255\n",
      "\n",
      "avg / total       0.62      0.61      0.61    107448\n",
      "\n"
     ]
    }
   ],
   "source": [
    "from sklearn.metrics import confusion_matrix\n",
    "result = LogReg.fit(X_train,y_train)\n",
    "y_pred = LogReg.predict(X_test)\n",
    "confusion_matrix = confusion_matrix(y_test, y_pred)\n",
    "confusion_matrix\n",
    "print(classification_report(y_test, y_pred))"
   ]
  },
  {
   "cell_type": "code",
   "execution_count": 53,
   "metadata": {},
   "outputs": [
    {
     "data": {
      "text/plain": [
       "0    199889\n",
       "1    158269\n",
       "Name: DEP_DELAY, dtype: int64"
      ]
     },
     "execution_count": 53,
     "metadata": {},
     "output_type": "execute_result"
    }
   ],
   "source": [
    "df.DEP_DELAY.value_counts()"
   ]
  },
  {
   "cell_type": "code",
   "execution_count": 61,
   "metadata": {},
   "outputs": [],
   "source": []
  },
  {
   "cell_type": "code",
   "execution_count": null,
   "metadata": {},
   "outputs": [],
   "source": []
  },
  {
   "cell_type": "code",
   "execution_count": null,
   "metadata": {
    "collapsed": true
   },
   "outputs": [],
   "source": []
  }
 ],
 "metadata": {
  "kernelspec": {
   "display_name": "Python 3",
   "language": "python",
   "name": "python3"
  },
  "language_info": {
   "codemirror_mode": {
    "name": "ipython",
    "version": 3
   },
   "file_extension": ".py",
   "mimetype": "text/x-python",
   "name": "python",
   "nbconvert_exporter": "python",
   "pygments_lexer": "ipython3",
   "version": "3.6.1"
  }
 },
 "nbformat": 4,
 "nbformat_minor": 2
}
